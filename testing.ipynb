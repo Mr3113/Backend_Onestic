{
 "cells": [
  {
   "cell_type": "markdown",
   "metadata": {},
   "source": [
    "## Prueba técnica para developer junior engineer - backend\n",
    "\n",
    "Realizada por Mario Marcos Ramón"
   ]
  },
  {
   "cell_type": "code",
   "execution_count": 1,
   "metadata": {},
   "outputs": [],
   "source": [
    "import pandas as pd"
   ]
  },
  {
   "cell_type": "code",
   "execution_count": 2,
   "metadata": {},
   "outputs": [],
   "source": [
    "orders = pd.read_csv(\"orders.csv\")"
   ]
  },
  {
   "cell_type": "code",
   "execution_count": 3,
   "metadata": {},
   "outputs": [],
   "source": [
    "products = pd.read_csv('products.csv')"
   ]
  },
  {
   "cell_type": "code",
   "execution_count": 4,
   "metadata": {},
   "outputs": [],
   "source": [
    "costumers = pd.read_csv('costumers.csv')"
   ]
  },
  {
   "cell_type": "markdown",
   "metadata": {},
   "source": [
    "## Reporte 1\n",
    "\n",
    "https://www.delftstack.com/es/howto/python-pandas/pandas-remove-index/"
   ]
  },
  {
   "cell_type": "code",
   "execution_count": 92,
   "metadata": {},
   "outputs": [],
   "source": [
    "list_total = []\n",
    "for i in orders['products']:\n",
    "    tot = 0\n",
    "    for x in i.split():\n",
    "        tot += products['cost'][int(x)]\n",
    "    list_total.append(tot)\n",
    "\n",
    "datos = {'id': orders['id'],\n",
    "         'total': list_total}\n",
    "columns = ['id', 'total']\n",
    "df = pd.DataFrame(datos, columns=columns)\n",
    "df = df.set_index('id')\n",
    "df.to_csv('order_prices.csv')"
   ]
  },
  {
   "cell_type": "markdown",
   "metadata": {},
   "source": [
    "### Comprobación:"
   ]
  },
  {
   "cell_type": "code",
   "execution_count": 21,
   "metadata": {},
   "outputs": [
    {
     "name": "stdout",
     "output_type": "stream",
     "text": [
      "Vemos que los productos para el pedido de id 0 son: 1 0 1 0\n",
      "El coste del producto 0 es: 2.981163654411736\n",
      "El coste del producto 1 es: 6.4903964370000935\n",
      "Por tanto el coste total del pedido de id 0 es: 18.94312018282366\n"
     ]
    }
   ],
   "source": [
    "print(f\"Vemos que los productos para el pedido de id 0 son: {orders['products'][0]}\")\n",
    "print(f\"El coste del producto 0 es: {products['cost'][0]}\")\n",
    "print(f\"El coste del producto 1 es: {products['cost'][1]}\")\n",
    "print(f\"Por tanto el coste total del pedido de id 0 es: {2*products['cost'][0]+2*products['cost'][1]}\")"
   ]
  },
  {
   "cell_type": "code",
   "execution_count": 22,
   "metadata": {},
   "outputs": [
    {
     "data": {
      "text/plain": [
       "18.94312018282366"
      ]
     },
     "execution_count": 22,
     "metadata": {},
     "output_type": "execute_result"
    }
   ],
   "source": [
    "ord_prices = pd.read_csv(\"order_prices.csv\")\n",
    "ord_prices['total'][0]"
   ]
  },
  {
   "cell_type": "markdown",
   "metadata": {},
   "source": [
    "Finalmente, comprobamos que el valor guardado en order_prices.csv para el pedido de id 0 coincide con el cálculo hecho."
   ]
  },
  {
   "cell_type": "markdown",
   "metadata": {},
   "source": [
    "## Reporte 2\n",
    "\n",
    "https://j2logo.com/eliminar-espacios-en-blanco-string-strip-python/"
   ]
  },
  {
   "cell_type": "code",
   "execution_count": 38,
   "metadata": {},
   "outputs": [],
   "source": [
    "list_prod = []\n",
    "for i in products['id']:\n",
    "    cust = ''\n",
    "    for r in range(len(orders)):\n",
    "        if str(i) in orders['products'][r].split():\n",
    "            cust += str(orders['customer'][r]) + ' '\n",
    "    list_prod.append(cust.strip())\n",
    "\n",
    "datos = {'id': products['id'],\n",
    "         'customer_ids': list_prod}\n",
    "columns = ['id', 'customer_ids']\n",
    "df = pd.DataFrame(datos, columns=columns)\n",
    "df = df.set_index('id')\n",
    "df.to_csv('product_costumers.csv')"
   ]
  },
  {
   "cell_type": "markdown",
   "metadata": {},
   "source": [
    "### Comprobación:"
   ]
  },
  {
   "cell_type": "code",
   "execution_count": 46,
   "metadata": {},
   "outputs": [
    {
     "name": "stdout",
     "output_type": "stream",
     "text": [
      "Vemos que los ids de los usuarios que compran un producto con id 0 son:\n",
      "0\n",
      "22\n",
      "20\n",
      "28\n",
      "40\n",
      "32\n",
      "5\n",
      "45\n",
      "37\n",
      "38\n",
      "6\n",
      "44\n",
      "50\n",
      "24\n",
      "54\n",
      "59\n",
      "15\n",
      "21\n",
      "34\n",
      "5\n",
      "34\n",
      "19\n",
      "47\n",
      "48\n",
      "46\n",
      "24\n",
      "10\n",
      "17\n",
      "22\n",
      "29\n",
      "44\n"
     ]
    }
   ],
   "source": [
    "print(f\"Vemos que los ids de los usuarios que compran un producto con id 0 son:\")\n",
    "for r in range(len(orders)):\n",
    "    if str(0) in orders['products'][r].split():\n",
    "        print(orders['customer'][r])"
   ]
  },
  {
   "cell_type": "code",
   "execution_count": 47,
   "metadata": {},
   "outputs": [
    {
     "data": {
      "text/plain": [
       "'0 22 20 28 40 32 5 45 37 38 6 44 50 24 54 59 15 21 34 5 34 19 47 48 46 24 10 17 22 29 44'"
      ]
     },
     "execution_count": 47,
     "metadata": {},
     "output_type": "execute_result"
    }
   ],
   "source": [
    "prod_costumers = pd.read_csv(\"product_costumers.csv\")\n",
    "prod_costumers['customer_ids'][0]"
   ]
  },
  {
   "cell_type": "markdown",
   "metadata": {},
   "source": [
    "Finalmente, comprobamos que los ids guardados en product_costumers.csv para el producto de id 0 coinciden con el cálculo hecho."
   ]
  },
  {
   "cell_type": "markdown",
   "metadata": {},
   "source": [
    "## Reporte 3\n",
    "\n",
    "https://www.analyticslane.com/2019/04/29/diferentes-formas-de-ordenar-dataframes-en-pandas/"
   ]
  },
  {
   "cell_type": "code",
   "execution_count": 115,
   "metadata": {},
   "outputs": [],
   "source": [
    "list_total = []\n",
    "for c in costumers['id']:\n",
    "    tot = 0\n",
    "    for o in range(len(orders)):\n",
    "        if c == orders['customer'][o]:\n",
    "            prod = orders['products'][o]\n",
    "            for x in prod.split():\n",
    "                tot += products['cost'][int(x)]\n",
    "    list_total.append(tot)\n",
    "\n",
    "datos = {'id': costumers['id'],\n",
    "         'name': costumers['firstname'],\n",
    "         'lastname': costumers['lastname'],\n",
    "         'total': list_total}\n",
    "columns = ['id','name','lastname','total']\n",
    "df = pd.DataFrame(datos, columns=columns)\n",
    "df = df.set_index('id')\n",
    "dford = df.sort_values('total',ascending=False)\n",
    "dford.to_csv('costumer_ranking.csv')"
   ]
  },
  {
   "cell_type": "markdown",
   "metadata": {},
   "source": [
    "### Comprobación:"
   ]
  },
  {
   "cell_type": "code",
   "execution_count": 60,
   "metadata": {},
   "outputs": [
    {
     "name": "stdout",
     "output_type": "stream",
     "text": [
      "Miramos el id del cliente que más dinero ha gastado: 34\n"
     ]
    }
   ],
   "source": [
    "costumer_rank = pd.read_csv(\"costumer_ranking.csv\")\n",
    "print(f\"Miramos el id del cliente que más dinero ha gastado: {costumer_rank['id'][0]}\")"
   ]
  },
  {
   "cell_type": "code",
   "execution_count": 57,
   "metadata": {},
   "outputs": [
    {
     "name": "stdout",
     "output_type": "stream",
     "text": [
      "Y el coste de cada uno de los productos que compra:\n",
      "6.4903964370000935\n",
      "8.90156976370351\n",
      "6.4903964370000935\n",
      "10.435252185512564\n",
      "6.4903964370000935\n",
      "10.435252185512564\n",
      "2.981163654411736\n",
      "2.981163654411736\n",
      "8.90156976370351\n",
      "8.90156976370351\n",
      "2.981163654411736\n",
      "10.435252185512564\n",
      "10.435252185512564\n",
      "8.90156976370351\n",
      "8.90156976370351\n",
      "8.90156976370351\n",
      "2.981163654411736\n",
      "8.90156976370351\n",
      "9.806494914226445\n"
     ]
    }
   ],
   "source": [
    "print(f\"Y el coste de cada uno de los productos que compra:\")\n",
    "for o in range(len(orders)):\n",
    "    if 34 == orders['customer'][o]:\n",
    "        prod = orders['products'][o]\n",
    "        for x in prod.split():\n",
    "            print(products['cost'][int(x)])"
   ]
  },
  {
   "cell_type": "code",
   "execution_count": 59,
   "metadata": {},
   "outputs": [
    {
     "name": "stdout",
     "output_type": "stream",
     "text": [
      "Sumamos todos estos valores y obtenemos un precio de: 145.25433593084847\n"
     ]
    }
   ],
   "source": [
    "tot = 0\n",
    "for o in range(len(orders)):\n",
    "    if 34 == orders['customer'][o]:\n",
    "        prod = orders['products'][o]\n",
    "        for x in prod.split():\n",
    "            tot += products['cost'][int(x)]\n",
    "print(f\"Sumamos todos estos valores y obtenemos un precio de: {tot}\")"
   ]
  },
  {
   "cell_type": "code",
   "execution_count": 58,
   "metadata": {},
   "outputs": [
    {
     "data": {
      "text/plain": [
       "145.25433593084847"
      ]
     },
     "execution_count": 58,
     "metadata": {},
     "output_type": "execute_result"
    }
   ],
   "source": [
    "costumer_rank = pd.read_csv(\"costumer_ranking.csv\")\n",
    "costumer_rank['total'][0]"
   ]
  },
  {
   "cell_type": "markdown",
   "metadata": {},
   "source": [
    "Finalmente, comprobamos que los el precio guardado en costumer_ranking.csv para el cliente de id 34 coincide con el cálculo hecho."
   ]
  }
 ],
 "metadata": {
  "kernelspec": {
   "display_name": "Python 3",
   "language": "python",
   "name": "python3"
  },
  "language_info": {
   "codemirror_mode": {
    "name": "ipython",
    "version": 3
   },
   "file_extension": ".py",
   "mimetype": "text/x-python",
   "name": "python",
   "nbconvert_exporter": "python",
   "pygments_lexer": "ipython3",
   "version": "3.7.3"
  }
 },
 "nbformat": 4,
 "nbformat_minor": 2
}
